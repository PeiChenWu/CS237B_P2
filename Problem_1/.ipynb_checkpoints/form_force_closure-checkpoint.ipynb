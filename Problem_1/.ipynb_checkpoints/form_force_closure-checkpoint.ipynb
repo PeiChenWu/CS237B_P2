{
 "cells": [
  {
   "cell_type": "code",
   "execution_count": 17,
   "id": "be960576",
   "metadata": {},
   "outputs": [],
   "source": [
    "import cvxpy as cp\n",
    "import numpy as np\n",
    "\n",
    "def cross_matrix(x):\n",
    "    \"\"\"\n",
    "    Returns a matrix x_cross such that x_cross.dot(y) represents the cross\n",
    "    product between x and y.\n",
    "\n",
    "    For 3D vectors, x_cross is a 3x3 skew-symmetric matrix. For 2D vectors,\n",
    "    x_cross is a 2x1 vector representing the magnitude of the cross product in\n",
    "    the z direction.\n",
    "     \"\"\"\n",
    "    D = x.shape[0]\n",
    "    if D == 2:\n",
    "        return np.array([[-x[1], x[0]]])\n",
    "    elif D == 3:\n",
    "        return np.array([[0., -x[2], x[1]],\n",
    "                         [x[2], 0., -x[0]],\n",
    "                         [-x[1], x[0], 0.]])\n",
    "    raise RuntimeError(\"cross_matrix(): x must be 2D or 3D. Received a {}D vector.\".format(D))\n",
    "\n",
    "def wrench(f, p):\n",
    "    \"\"\"\n",
    "    Computes the wrench from the given force f applied at the given point p.\n",
    "    Works for 2D and 3D.\n",
    "\n",
    "    Args:\n",
    "        f - 2D or 3D contact force.\n",
    "        p - 2D or 3D contact point.\n",
    "\n",
    "    Return:\n",
    "        w - 3D or 6D contact wrench represented as (force, torque).    \n",
    "    \"\"\"\n",
    "    ########## Your code starts here ##########\n",
    "    # Hint: you may find cross_matrix(x) defined above helpful. This should be one line of code.\n",
    "    \n",
    "    w = np.concatenate((f, cross_matrix(p).dot(f)), axis=None)\n",
    "\n",
    "    ########## Your code ends here ##########\n",
    "\n",
    "    return w\n",
    "\n",
    "def cone_edges(f, mu):\n",
    "    \"\"\"\n",
    "    Returns the edges of the specified friction cone. For 3D vectors, the\n",
    "    friction cone is approximated by a pyramid whose vertices are circumscribed\n",
    "    by the friction cone.\n",
    "\n",
    "    In the case where the friction coefficient is 0, a list containing only the\n",
    "    original contact force is returned.\n",
    "\n",
    "    Args:\n",
    "        f - 2D or 3D contact force.\n",
    "        mu - friction coefficient.\n",
    "\n",
    "    Return:\n",
    "        edges - a list of forces whose convex hull approximates the friction cone.\n",
    "    \"\"\"\n",
    "    # Edge case for frictionless contact\n",
    "    if mu == 0.:\n",
    "        return [f]\n",
    "\n",
    "    # Planar wrenches\n",
    "    D = f.shape[0]\n",
    "    if D == 2:\n",
    "        ########## Your code starts here ##########\n",
    "        edges = [np.zeros(D)] * 2\n",
    "\n",
    "        ########## Your code ends here ##########\n",
    "\n",
    "    # Spatial wrenches\n",
    "    elif D == 3:\n",
    "        ########## Your code starts here ##########\n",
    "        edges = [np.zeros(D)] * 4\n",
    "\n",
    "        \n",
    "        ########## Your code ends here ##########\n",
    "\n",
    "    else:\n",
    "        raise RuntimeError(\"cone_edges(): f must be 3D or 6D. Received a {}D vector.\".format(D))\n",
    "\n",
    "    return edges\n",
    "\n",
    "def form_closure_program(F):\n",
    "    \"\"\"\n",
    "    Solves a linear program to determine whether the given contact wrenches\n",
    "    are in form closure.\n",
    "\n",
    "    Args:\n",
    "        F - matrix whose columns are 3D or 6D contact wrenches.\n",
    "\n",
    "    Return:\n",
    "        True/False - whether the form closure condition is satisfied.\n",
    "    \"\"\"\n",
    "    ########## Your code starts here ##########\n",
    "    # Hint: you may find np.linalg.matrix_rank(F) helpful\n",
    "    # TODO: Replace the following program (check the cvxpy documentation)\n",
    "    \n",
    "    k = cp.Variable(F.shape[1])\n",
    "    objective = cp.Minimize(k)\n",
    "    constraints = [F@k==0 , k >= 1]\n",
    "\n",
    "\n",
    "    ########## Your code ends here ##########\n",
    "\n",
    "    prob = cp.Problem(objective, constraints)\n",
    "    prob.solve(verbose=False, solver=cp.ECOS)\n",
    "\n",
    "    return prob.status not in ['infeasible', 'unbounded']\n",
    "\n",
    "def is_in_form_closure(normals, points):\n",
    "    \"\"\"\n",
    "    Calls form_closure_program() to determine whether the given contact normals\n",
    "    are in form closure.\n",
    "\n",
    "    Args:\n",
    "        normals - list of 2D or 3D contact forces.\n",
    "        points - list of 2D or 3D contact points.\n",
    "\n",
    "    Return:\n",
    "        True/False - whether the forces are in form closure.\n",
    "    \"\"\"\n",
    "    ########## Your code starts here ##########\n",
    "    # TODO: Construct the F matrix (not necessarily 6 x 7)\n",
    "    \n",
    "    n = normals.shape[0][0]\n",
    "    j = len(normals)\n",
    "    F = np.zeros((n,j))\n",
    "    \n",
    "    for i in range(j):\n",
    "        F[:,j] = wrench(normals[i],points[i])\n",
    "\n",
    "\n",
    "    ########## Your code ends here ##########\n",
    "\n",
    "    return form_closure_program(F)\n",
    "\n",
    "def is_in_force_closure(forces, points, friction_coeffs):\n",
    "    \"\"\"\n",
    "    Calls form_closure_program() to determine whether the given contact forces\n",
    "    are in force closure.\n",
    "\n",
    "    Args:\n",
    "        forces - list of 2D or 3D contact forces.\n",
    "        points - list of 2D or 3D contact points.\n",
    "        friction_coeffs - list of friction coefficients.\n",
    "\n",
    "    Return:\n",
    "        True/False - whether the forces are in force closure.\n",
    "    \"\"\"\n",
    "    ########## Your code starts here ##########\n",
    "    # TODO: Call cone_edges() to construct the F matrix (not necessarily 6 x 7)\n",
    "    F = np.zeros((6,7))    \n",
    "\n",
    "\n",
    "    ########## Your code ends here ##########\n",
    "\n",
    "    return form_closure_program(F)\n"
   ]
  },
  {
   "cell_type": "code",
   "execution_count": 10,
   "id": "bd03b732",
   "metadata": {},
   "outputs": [],
   "source": [
    "forces = [np.array([0., 0., 1.]),\n",
    "          np.array([-1., 0., 0.]),\n",
    "          np.array([0., 1., 0.]),\n",
    "          np.array([0., 0., -1.]),\n",
    "          np.array([1., 0., 0.]),\n",
    "          np.array([0., -1., 0.]),\n",
    "          np.array([0., 0., -1.])]"
   ]
  },
  {
   "cell_type": "code",
   "execution_count": 11,
   "id": "45076c06",
   "metadata": {},
   "outputs": [
    {
     "data": {
      "text/plain": [
       "7"
      ]
     },
     "execution_count": 11,
     "metadata": {},
     "output_type": "execute_result"
    }
   ],
   "source": [
    "len(forces)"
   ]
  },
  {
   "cell_type": "code",
   "execution_count": 21,
   "id": "4703d64a",
   "metadata": {},
   "outputs": [],
   "source": [
    "F = np.zeros((3,7))"
   ]
  },
  {
   "cell_type": "code",
   "execution_count": 23,
   "id": "a05c718e",
   "metadata": {},
   "outputs": [
    {
     "data": {
      "text/plain": [
       "7"
      ]
     },
     "execution_count": 23,
     "metadata": {},
     "output_type": "execute_result"
    }
   ],
   "source": [
    "F.shape[1]"
   ]
  },
  {
   "cell_type": "code",
   "execution_count": 25,
   "id": "e7ddcc3e",
   "metadata": {},
   "outputs": [
    {
     "data": {
      "text/plain": [
       "3.0"
      ]
     },
     "execution_count": 25,
     "metadata": {},
     "output_type": "execute_result"
    }
   ],
   "source": [
    "np.ones(3).dot(np.ones(3))"
   ]
  },
  {
   "cell_type": "code",
   "execution_count": 27,
   "id": "9e792289",
   "metadata": {},
   "outputs": [
    {
     "data": {
      "text/plain": [
       "3.0"
      ]
     },
     "execution_count": 27,
     "metadata": {},
     "output_type": "execute_result"
    }
   ],
   "source": [
    "np.ones(3).T@np.ones(3)"
   ]
  },
  {
   "cell_type": "code",
   "execution_count": 31,
   "id": "7f502af8",
   "metadata": {},
   "outputs": [],
   "source": [
    "\n",
    "import unittest"
   ]
  },
  {
   "cell_type": "code",
   "execution_count": null,
   "id": "e1feb14e",
   "metadata": {},
   "outputs": [],
   "source": [
    "test = True\n",
    "unittest.TestCase.assertFalse(True)"
   ]
  }
 ],
 "metadata": {
  "kernelspec": {
   "display_name": "Python 3 (ipykernel)",
   "language": "python",
   "name": "python3"
  },
  "language_info": {
   "codemirror_mode": {
    "name": "ipython",
    "version": 3
   },
   "file_extension": ".py",
   "mimetype": "text/x-python",
   "name": "python",
   "nbconvert_exporter": "python",
   "pygments_lexer": "ipython3",
   "version": "3.9.7"
  }
 },
 "nbformat": 4,
 "nbformat_minor": 5
}
